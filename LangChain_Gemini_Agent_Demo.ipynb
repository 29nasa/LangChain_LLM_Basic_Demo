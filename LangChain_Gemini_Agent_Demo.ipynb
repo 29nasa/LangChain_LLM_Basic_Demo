{
  "nbformat": 4,
  "nbformat_minor": 0,
  "metadata": {
    "colab": {
      "provenance": []
    },
    "kernelspec": {
      "name": "python3",
      "display_name": "Python 3"
    },
    "language_info": {
      "name": "python"
    }
  },
  "cells": [
    {
      "cell_type": "markdown",
      "source": [
        "# Install dependencies\n",
        "\n",
        "* If already installed in colab, this step can be optional"
      ],
      "metadata": {
        "id": "kKEBEI-uX9Bt"
      }
    },
    {
      "cell_type": "code",
      "source": [
        "!pip install -q langchain langchain-community langchain-google-genai google-generativeai==0.8.5 google-ai-generativelanguage==0.6.15\n"
      ],
      "metadata": {
        "colab": {
          "base_uri": "https://localhost:8080/"
        },
        "id": "_z9tCS3SS0Tl",
        "outputId": "e2da2e4f-aadc-487b-c802-2329956ee012"
      },
      "execution_count": 2,
      "outputs": [
        {
          "output_type": "stream",
          "name": "stdout",
          "text": [
            "\u001b[?25l   \u001b[90m━━━━━━━━━━━━━━━━━━━━━━━━━━━━━━━━━━━━━━━━\u001b[0m \u001b[32m0.0/1.3 MB\u001b[0m \u001b[31m?\u001b[0m eta \u001b[36m-:--:--\u001b[0m\r\u001b[2K   \u001b[91m━━━━━━━━━━━━━━━━━━━━━━━━━━━━━━━━━━━━━━━\u001b[0m\u001b[91m╸\u001b[0m \u001b[32m1.3/1.3 MB\u001b[0m \u001b[31m45.2 MB/s\u001b[0m eta \u001b[36m0:00:01\u001b[0m\r\u001b[2K   \u001b[90m━━━━━━━━━━━━━━━━━━━━━━━━━━━━━━━━━━━━━━━━\u001b[0m \u001b[32m1.3/1.3 MB\u001b[0m \u001b[31m28.1 MB/s\u001b[0m eta \u001b[36m0:00:00\u001b[0m\n",
            "\u001b[?25h\u001b[?25l   \u001b[90m━━━━━━━━━━━━━━━━━━━━━━━━━━━━━━━━━━━━━━━━\u001b[0m \u001b[32m0.0/2.5 MB\u001b[0m \u001b[31m?\u001b[0m eta \u001b[36m-:--:--\u001b[0m\r\u001b[2K   \u001b[91m━━━━━━━━━━━━━━━━━━━━━━━━━━━━━━━━━━━━━━━\u001b[0m\u001b[91m╸\u001b[0m \u001b[32m2.5/2.5 MB\u001b[0m \u001b[31m181.1 MB/s\u001b[0m eta \u001b[36m0:00:01\u001b[0m\r\u001b[2K   \u001b[90m━━━━━━━━━━━━━━━━━━━━━━━━━━━━━━━━━━━━━━━━\u001b[0m \u001b[32m2.5/2.5 MB\u001b[0m \u001b[31m70.0 MB/s\u001b[0m eta \u001b[36m0:00:00\u001b[0m\n",
            "\u001b[2K   \u001b[90m━━━━━━━━━━━━━━━━━━━━━━━━━━━━━━━━━━━━━━━━\u001b[0m \u001b[32m42.0/42.0 kB\u001b[0m \u001b[31m2.8 MB/s\u001b[0m eta \u001b[36m0:00:00\u001b[0m\n",
            "\u001b[2K   \u001b[90m━━━━━━━━━━━━━━━━━━━━━━━━━━━━━━━━━━━━━━━━\u001b[0m \u001b[32m64.7/64.7 kB\u001b[0m \u001b[31m4.2 MB/s\u001b[0m eta \u001b[36m0:00:00\u001b[0m\n",
            "\u001b[2K   \u001b[90m━━━━━━━━━━━━━━━━━━━━━━━━━━━━━━━━━━━━━━━━\u001b[0m \u001b[32m50.9/50.9 kB\u001b[0m \u001b[31m2.7 MB/s\u001b[0m eta \u001b[36m0:00:00\u001b[0m\n",
            "\u001b[?25h\u001b[31mERROR: pip's dependency resolver does not currently take into account all the packages that are installed. This behaviour is the source of the following dependency conflicts.\n",
            "google-colab 1.0.0 requires requests==2.32.4, but you have requests 2.32.5 which is incompatible.\u001b[0m\u001b[31m\n",
            "\u001b[0m"
          ]
        }
      ]
    },
    {
      "cell_type": "markdown",
      "source": [
        "# Insert your LLM API Key\n",
        "\n",
        "* I have used Gemini by default"
      ],
      "metadata": {
        "id": "JfIQPKQzYNEu"
      }
    },
    {
      "cell_type": "code",
      "source": [
        "from getpass import getpass\n",
        "import os\n",
        "\n",
        "api_key = getpass(\"Paste your Google AI Studio (Gemini) API key here: \")\n",
        "os.environ[\"GOOGLE_API_KEY\"] = api_key\n",
        "print(\"✅ API key set\")\n"
      ],
      "metadata": {
        "colab": {
          "base_uri": "https://localhost:8080/"
        },
        "id": "tndQCxccSkWK",
        "outputId": "36fa6cd5-fd16-4263-94a1-10da4309b257"
      },
      "execution_count": 3,
      "outputs": [
        {
          "output_type": "stream",
          "name": "stdout",
          "text": [
            "Paste your Google AI Studio (Gemini) API key here: ··········\n",
            "✅ API key set\n"
          ]
        }
      ]
    },
    {
      "cell_type": "markdown",
      "source": [
        "# Paste note text directly into the box"
      ],
      "metadata": {
        "id": "wDPYdLhSYYOQ"
      }
    },
    {
      "cell_type": "code",
      "source": [
        "\n",
        "# Ask user to paste their note\n",
        "doc_text = input(\"✍️ Please paste your note here:\\n\\n\")\n",
        "\n",
        "# Quick feedback\n",
        "print(\"\\n✅ Note captured. First 500 chars:\\n\")\n",
        "print(doc_text[:500])\n"
      ],
      "metadata": {
        "colab": {
          "base_uri": "https://localhost:8080/"
        },
        "id": "BnbVSFzmTmej",
        "outputId": "5c18490e-66b1-4ece-a995-a68fe75cab02"
      },
      "execution_count": 7,
      "outputs": [
        {
          "output_type": "stream",
          "name": "stdout",
          "text": [
            "✍️ Please paste your note here:\n",
            "\n",
            "High school seniors had the worst reading scores since 1992 on a national test, a loss probably related to increases in screen time and the pandemic. Their math scores fell as well. The reading skills of American high school seniors are the worst they have been in three decades, according to new federal testing data, a worrying sign for teenagers as they face an uncertain job market and information landscape challenged by A.I.  In math, 12th graders had the lowest performance since 2005.  The results, from the National Assessment of Educational Progress, long regarded as the nation’s most reliable, gold-standard exam, showed that about a third of the 12th-graders who were tested last year did not have basic reading skills.  It was a sign that, among other skills, they may not be able to determine the purpose of a political speech. In math, nearly half of the test takers scored below the basic level, meaning they may not have mastered skills like using percentages to solve real-world problems.  The test scores are the first of their kind to be released since the Covid-19 pandemic upended education. They are yet another sign that adolescents are struggling in the wake of the virus, when schools were closed for months or more. They also arrive at a time when Americans overall are abandoning printed text for screen time and video-dominated social media, which experts have linked to declining academics.  The NAEP test results indicate “a stark decline” in performance, said Matthew Soldner, the acting commissioner of the National Center for Education Statistics, the arm of the federal Education Department that administers the tests.  Only about a third of 12th graders are leaving high school with the reading and math skills necessary for college-level work, he added.  The findings echo grim statistics on the recent achievement of younger children.  For about 10 years, declines have been most pronounced among low-performing students, indicating that the floor of academic achievement has fallen. NAEP scores among top 12th-graders — those at the 90th percentile or above — have not changed significantly over the decades these exams have been given, in either reading or math. Over the last decade, both adults and children began to replace reading time with screen time, social media and, increasingly, streaming video. And over the same period, the federal government and many states relaxed policies that were intended to hold schools and teachers accountable for student learning.  Among Republican policymakers, much of the energy in education policy has shifted away from raising test scores, and toward providing parents with private-school vouchers. Many elected Democrats have focused more on social supports for students, like nutrition and mental health counseling, than on academic rigor.  States and school districts have worked to improve early reading instruction and provide broader access to advanced math. But at least so far, those changes have not resulted in national achievement gains.  The new test data also includes 8th-grade science scores. Performance in 2024 declined, with 38 percent of students scoring below the basic level, compared with 33 percent in 2019.  NAEP exams are given to representative samples of students across the country, and are considered more challenging than the state standardized tests that public schools prepare students for.  The NAEP results are widely scrutinized by educators, policymakers and researchers. They provide one of the few nationally comparable snapshots of student performance, in a country where much education policy is set at the local level.  The achievement declines cut across demographic divides of race, class and sex. One of the few brights spots was in science among 8th graders who were not proficient in English. That group’s performance improved between 2019 and 2024.  Some experts said that in response to declining achievement, policymakers should look to a few states that have shown recent improvements in NAEP test scores for younger children. State-by-state results are not available for the 12th-grade level.  “There’s a road map out there from states like Louisiana and Tennessee, focused on high-dosage tutoring, high-quality curriculum and clear information for parents on where their kids stand,” said Marc Porter Magee, chief executive of 50CAN, an education advocacy group. “What’s missing now is the political will to bring it to every state.”  Other experts have urged a top-to-bottom rethinking of how education is delivered.  D. Graham Burnett, a historian of science at Princeton, said that with the ubiquity of screens, it seems inevitable that in the future, fewer people will engage with lengthy texts. But he argued that the cultural inheritance passed down through the generations in printed books and articles could continue through speech, performance, memorization, recitation and other age-old forms of learning.  “It’s important that we not throw out reading,” he said. “But we have to work with where we are, and people are not going to get dumber. We are going to carry forward the tradition in powerful ways, and we’re going to do it in ways that are unrecognizable to our grandparents. That’s always been the case.”  Still, some worry the NAEP results have implications for American companies as they seek skilled employees, and for American workers as they seek good jobs.  Margaret Spellings, who served as education secretary under President George W. Bush and now leads the Bipartisan Policy Center, said declining achievement was “an economic emergency that threatens our work force and national competitiveness.”  The release of the NAEP test data on Tuesday is the first since President Trump decimated staffing at the Education Department as part of his push to abolish the agency. The National Center for Education Statistics now has only three full-time employees, according to Dr. Soldner; earlier this year there were about 100. The administration fired the agency’s widely respected leader, Peggy Carr. Before the test scores were released, administration officials sought to project the idea that the agency was running adequately, telling reporters that it was on schedule to deliver NAEP exams in 2026 and 2028 and planned to hire about 10 people to help with the testing program.  In a statement, Linda McMahon, the education secretary, said the latest test scores “confirm a devastating trend.” “The lesson is clear,” she continued. “Success isn’t about how much money we spend, but who controls the money and where that money is invested.”  Ms. Spellings said the test results raised questions about Mr. Trump’s priorities.  “The current conversation in Washington is a distraction from our most urgent priority of better preparing our students,” she said in a statement. “This is not the right moment to talk about closing the Department of Education. When your house is on fire, you don’t talk about making renovations.”\n",
            "\n",
            "✅ Note captured. First 500 chars:\n",
            "\n",
            "High school seniors had the worst reading scores since 1992 on a national test, a loss probably related to increases in screen time and the pandemic. Their math scores fell as well. The reading skills of American high school seniors are the worst they have been in three decades, according to new federal testing data, a worrying sign for teenagers as they face an uncertain job market and information landscape challenged by A.I.  In math, 12th graders had the lowest performance since 2005.  The re\n"
          ]
        }
      ]
    },
    {
      "cell_type": "markdown",
      "source": [
        "## Initialize LLM + memory"
      ],
      "metadata": {
        "id": "zwiLXbZXYeBy"
      }
    },
    {
      "cell_type": "code",
      "source": [
        "from langchain_google_genai import ChatGoogleGenerativeAI\n",
        "from langchain.memory import ConversationBufferMemory\n",
        "\n",
        "llm = ChatGoogleGenerativeAI(model=\"gemini-2.5-pro\", temperature=0.0)\n",
        "memory = ConversationBufferMemory(return_messages=True)\n",
        "print(\"✅ LLM and memory initialized\")\n"
      ],
      "metadata": {
        "colab": {
          "base_uri": "https://localhost:8080/"
        },
        "id": "7YYDGePVUy0D",
        "outputId": "d56ec4bd-686d-429d-82ee-6febd83dd1c7"
      },
      "execution_count": 8,
      "outputs": [
        {
          "output_type": "stream",
          "name": "stdout",
          "text": [
            "✅ LLM and memory initialized\n"
          ]
        },
        {
          "output_type": "stream",
          "name": "stderr",
          "text": [
            "/tmp/ipython-input-3144195714.py:5: LangChainDeprecationWarning: Please see the migration guide at: https://python.langchain.com/docs/versions/migrating_memory/\n",
            "  memory = ConversationBufferMemory(return_messages=True)\n"
          ]
        }
      ]
    },
    {
      "cell_type": "markdown",
      "source": [
        "## Define tools"
      ],
      "metadata": {
        "id": "O7thTJylYhVP"
      }
    },
    {
      "cell_type": "code",
      "source": [
        "from langchain.tools import tool\n",
        "\n",
        "tasks = []  # global in-memory task list\n",
        "\n",
        "@tool\n",
        "def search_notes(query: str) -> str:\n",
        "    \"\"\"Search uploaded notes for relevant content.\"\"\"\n",
        "    q = query.lower()\n",
        "    hits = []\n",
        "    for line in doc_text.splitlines():\n",
        "        if q in line.lower():\n",
        "            hits.append(line.strip())\n",
        "    return \"\\n\".join(hits) if hits else \"No matches found.\"\n",
        "\n",
        "@tool\n",
        "def summarize_notes(query: str = \"\") -> str:\n",
        "    \"\"\"Summarize uploaded notes (optionally guided by query).\"\"\"\n",
        "    # If no query, summarize the full note\n",
        "    snippet = doc_text if not query else search_notes.run(query)\n",
        "    prompt = f\"Summarize the following text into 3-5 concise bullet points:\\n\\n{snippet}\"\n",
        "    res = llm.invoke(prompt)\n",
        "    return getattr(res, \"content\", str(res))\n",
        "\n",
        "@tool\n",
        "def create_task(title: str) -> str:\n",
        "    \"\"\"Create a task (requires human confirmation).\"\"\"\n",
        "    confirm = input(f\"Confirm creation of task '{title}'? (y/N): \").strip().lower()\n",
        "    if confirm == \"y\":\n",
        "        tasks.append(title)\n",
        "        return f\"✅ Task created: {title}\"\n",
        "    else:\n",
        "        return \"❌ Task cancelled.\"\n",
        "\n",
        "@tool\n",
        "def show_tasks(dummy: str=\"\") -> str:\n",
        "    \"\"\"Show current tasks.\"\"\"\n",
        "    return \"\\n\".join([f\"{i+1}. {t}\" for i,t in enumerate(tasks)]) if tasks else \"No tasks yet.\"\n"
      ],
      "metadata": {
        "id": "pdWeucjwU6i9"
      },
      "execution_count": 14,
      "outputs": []
    },
    {
      "cell_type": "markdown",
      "source": [
        "## Bind tools to Gemini"
      ],
      "metadata": {
        "id": "0BngMyr_Yn6O"
      }
    },
    {
      "cell_type": "code",
      "source": [
        "tools = [search_notes, summarize_notes, create_task, show_tasks]\n",
        "llm_with_tools = llm.bind_tools(tools)\n",
        "print(\"✅ Tools bound to Gemini\")\n"
      ],
      "metadata": {
        "colab": {
          "base_uri": "https://localhost:8080/"
        },
        "id": "_tmxs2VUU_Pn",
        "outputId": "0566fa94-3b39-47fe-ede4-5fd1515cb86b"
      },
      "execution_count": 10,
      "outputs": [
        {
          "output_type": "stream",
          "name": "stdout",
          "text": [
            "✅ Tools bound to Gemini\n"
          ]
        }
      ]
    },
    {
      "cell_type": "markdown",
      "source": [
        "# Agent loop\n",
        "* the brain"
      ],
      "metadata": {
        "id": "KeUHzooSYs1n"
      }
    },
    {
      "cell_type": "code",
      "source": [
        "def agent_with_tools(user_input: str) -> str:\n",
        "    \"\"\"\n",
        "    Agent logic:\n",
        "    1. Check if input indicates a tool should be used\n",
        "    2. Run the tool (summarize/search/create/show)\n",
        "    3. Feed tool output + conversation memory back to LLM\n",
        "    \"\"\"\n",
        "    # Save user input\n",
        "    memory.save_context({\"input\": user_input}, {\"output\": \"\"})\n",
        "\n",
        "    # Simple keyword routing for demo\n",
        "    tool_output = \"\"\n",
        "    if \"summarize\" in user_input.lower():\n",
        "        tool_output = summarize_notes.invoke(\"\")  # <-- pass empty string\n",
        "    elif \"search\" in user_input.lower():\n",
        "        tool_output = search_notes.invoke(user_input)\n",
        "    elif \"create task\" in user_input.lower():\n",
        "        title = input(\"Enter task title for creation: \")\n",
        "        tool_output = create_task.invoke(title)\n",
        "    elif \"show tasks\" in user_input.lower():\n",
        "        tool_output = show_tasks.invoke(\"\")  # <-- pass empty string\n",
        "\n",
        "    # Build LLM prompt with memory + tool output\n",
        "    context = f\"Document note:\\n{doc_text}\\n\\nConversation so far:\\n\"\n",
        "    for msg in memory.buffer:\n",
        "        if 'input' in msg: context += f\"User: {msg['input']}\\n\"\n",
        "        if 'output' in msg: context += f\"Agent: {msg['output']}\\n\"\n",
        "\n",
        "    prompt = context + f\"User: {user_input}\\nTool output:\\n{tool_output}\\nAgent:\"\n",
        "\n",
        "    # Call LLM\n",
        "    res = llm.invoke(prompt)\n",
        "    text = getattr(res, \"content\", str(res))\n",
        "\n",
        "    # Save agent output to memory\n",
        "    memory.save_context({\"input\": user_input}, {\"output\": text})\n",
        "    return text\n"
      ],
      "metadata": {
        "id": "V3MBSjz-VB5j"
      },
      "execution_count": 19,
      "outputs": []
    },
    {
      "cell_type": "markdown",
      "source": [
        "## Visualize Agent Flow with NetworkX\n"
      ],
      "metadata": {
        "id": "iUWDrEmEY0eQ"
      }
    },
    {
      "cell_type": "code",
      "source": [
        "import networkx as nx\n",
        "import matplotlib.pyplot as plt\n",
        "\n",
        "# Create a directed graph\n",
        "G = nx.DiGraph()\n",
        "\n",
        "# Nodes\n",
        "G.add_node(\"User\")\n",
        "G.add_node(\"LLM (Gemini)\")\n",
        "G.add_node(\"search_notes\")\n",
        "G.add_node(\"summarize_notes\")\n",
        "G.add_node(\"create_task\")\n",
        "G.add_node(\"show_tasks\")\n",
        "G.add_node(\"Memory\")\n",
        "\n",
        "# Edges\n",
        "G.add_edges_from([\n",
        "    (\"User\", \"LLM (Gemini)\"),\n",
        "    (\"LLM (Gemini)\", \"search_notes\"),\n",
        "    (\"LLM (Gemini)\", \"summarize_notes\"),\n",
        "    (\"LLM (Gemini)\", \"create_task\"),\n",
        "    (\"LLM (Gemini)\", \"show_tasks\"),\n",
        "    (\"search_notes\", \"Memory\"),\n",
        "    (\"summarize_notes\", \"Memory\"),\n",
        "    (\"create_task\", \"Memory\"),\n",
        "    (\"show_tasks\", \"Memory\")\n",
        "])\n",
        "\n",
        "# Define positions for nodes for nicer layout\n",
        "pos = {\n",
        "    \"User\": (0,0),\n",
        "    \"LLM (Gemini)\": (1,0),\n",
        "    \"search_notes\": (2,1),\n",
        "    \"summarize_notes\": (2,0.33),\n",
        "    \"create_task\": (2,-0.33),\n",
        "    \"show_tasks\": (2,-1),\n",
        "    \"Memory\": (3,0)\n",
        "}\n",
        "\n",
        "# Draw the graph\n",
        "plt.figure(figsize=(10,5))\n",
        "nx.draw(G, pos, with_labels=True, node_size=2500, node_color=\"lightblue\", arrowsize=20, font_size=10)\n",
        "plt.title(\"LangChain Agent Flow: User → LLM → Tools → Memory\", fontsize=14)\n",
        "plt.show()\n"
      ],
      "metadata": {
        "colab": {
          "base_uri": "https://localhost:8080/",
          "height": 560
        },
        "id": "9fKKCAq5VGws",
        "outputId": "adbdbe5c-167e-43ef-b2f3-1917dcebff8c"
      },
      "execution_count": 12,
      "outputs": [
        {
          "output_type": "display_data",
          "data": {
            "text/plain": [
              "<Figure size 1000x500 with 1 Axes>"
            ],
            "image/png": "[encoded data removed]"
          },
          "metadata": {}
        }
      ]
    },
    {
      "cell_type": "markdown",
      "source": [
        "## Interactive chat\n",
        "\n",
        "Users can type natural language like:\n",
        "\n",
        "* Summarize this document\n",
        "\n",
        "* Create a task to email John about prototype testing\n",
        "\n",
        "* Show my tasks\n",
        "\n",
        "* Find mentions of cycle life\n",
        "\n",
        "Any generic questions asked directly to the LLM will also work.\n",
        "\n",
        "**Note:** to end the converstion, enter 'exit' or 'quit'"
      ],
      "metadata": {
        "id": "9vgIpdK_Y3RN"
      }
    },
    {
      "cell_type": "code",
      "source": [
        "while True:\n",
        "    q = input(\"\\nYou: \")\n",
        "    if q.lower() in [\"exit\", \"quit\"]:\n",
        "        break\n",
        "    print(\"Agent:\", agent_with_tools(q))\n"
      ],
      "metadata": {
        "colab": {
          "base_uri": "https://localhost:8080/"
        },
        "id": "OPo9taLZVVue",
        "outputId": "e494f1db-ae93-469d-8a7f-225446673049"
      },
      "execution_count": 20,
      "outputs": [
        {
          "name": "stdout",
          "output_type": "stream",
          "text": [
            "\n",
            "You: hi\n",
            "Agent: Hello! I've read the document note you provided about the declining reading and math scores for high school seniors.\n",
            "\n",
            "How can I help you with it? For example, you could ask me to:\n",
            "\n",
            "*   Summarize the key findings.\n",
            "*   Identify the potential causes mentioned for the score decline.\n",
            "*   Pull out specific statistics.\n",
            "*   Explain the different perspectives on how to solve the problem.\n",
            "\n",
            "You: can you summarize the key findings for me?\n",
            "Agent: Based on the document, here are the main takeaways:\n",
            "\n",
            "*   **The problem is severe and widespread:** This isn't a minor dip in scores. It's a \"stark decline\" to the lowest levels in decades. A large percentage of students are leaving high school without the basic reading and math skills needed for college, skilled jobs, or even to understand a political speech.\n",
            "\n",
            "*   **There are multiple causes:** The decline is attributed to a combination of factors. The immediate disruption of the COVID-19 pandemic is a major cause, but it's layered on top of a decade-long societal trend of replacing reading with screen time and social media.\n",
            "\n",
            "*   **The stakes are incredibly high:** Experts quoted in the note frame this as an \"economic emergency.\" The decline in student achievement is seen as a direct threat to the future U.S. workforce and the nation's overall economic competitiveness.\n",
            "\n",
            "*   **There's a political disconnect:** A significant portion of the note highlights the irony that the very government agency responsible for this critical data (the NCES) has been decimated by the administration. This raises serious questions about the political will to address the educational crisis that the data reveals.\n",
            "\n",
            "You: thank you, exit \n",
            "Agent: You're very welcome! If you need anything else in the future, just let me know. Have a great day\n",
            "\n",
            "You: quit\n"
          ]
        }
      ]
    }
  ]
}